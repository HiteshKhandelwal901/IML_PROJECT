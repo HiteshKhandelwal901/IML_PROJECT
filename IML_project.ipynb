{
 "cells": [
  {
   "cell_type": "code",
   "execution_count": 2,
   "metadata": {},
   "outputs": [
    {
     "name": "stdout",
     "output_type": "stream",
     "text": [
      "Collecting pandas\n",
      "  Downloading pandas-1.1.4-cp37-cp37m-win_amd64.whl (8.7 MB)\n",
      "Requirement already satisfied: numpy>=1.15.4 in c:\\users\\khdho\\anaconda3\\envs\\iml\\lib\\site-packages (from pandas) (1.19.2)\n",
      "Collecting pytz>=2017.2\n",
      "  Downloading pytz-2020.4-py2.py3-none-any.whl (509 kB)\n",
      "Requirement already satisfied: python-dateutil>=2.7.3 in c:\\users\\khdho\\anaconda3\\envs\\iml\\lib\\site-packages (from pandas) (2.8.1)\n",
      "Requirement already satisfied: six>=1.5 in c:\\users\\khdho\\anaconda3\\envs\\iml\\lib\\site-packages (from python-dateutil>=2.7.3->pandas) (1.15.0)\n",
      "Installing collected packages: pytz, pandas\n",
      "Successfully installed pandas-1.1.4 pytz-2020.4\n",
      "Note: you may need to restart the kernel to use updated packages.\n"
     ]
    }
   ],
   "source": [
    "pip install pandas\n"
   ]
  },
  {
   "cell_type": "code",
   "execution_count": 8,
   "metadata": {},
   "outputs": [
    {
     "name": "stdout",
     "output_type": "stream",
     "text": [
      "Collecting matplotlib\n",
      "  Downloading matplotlib-3.3.2-cp37-cp37m-win_amd64.whl (8.5 MB)\n",
      "Collecting kiwisolver>=1.0.1\n",
      "  Downloading kiwisolver-1.3.1-cp37-cp37m-win_amd64.whl (51 kB)\n",
      "Collecting pillow>=6.2.0\n",
      "  Downloading Pillow-8.0.1-cp37-cp37m-win_amd64.whl (2.1 MB)\n",
      "Requirement already satisfied: certifi>=2020.06.20 in c:\\users\\khdho\\anaconda3\\envs\\iml\\lib\\site-packages (from matplotlib) (2020.6.20)\n",
      "Requirement already satisfied: numpy>=1.15 in c:\\users\\khdho\\anaconda3\\envs\\iml\\lib\\site-packages (from matplotlib) (1.19.2)\n",
      "Requirement already satisfied: pyparsing!=2.0.4,!=2.1.2,!=2.1.6,>=2.0.3 in c:\\users\\khdho\\anaconda3\\envs\\iml\\lib\\site-packages (from matplotlib) (2.4.7)\n",
      "Requirement already satisfied: python-dateutil>=2.1 in c:\\users\\khdho\\anaconda3\\envs\\iml\\lib\\site-packages (from matplotlib) (2.8.1)\n",
      "Collecting cycler>=0.10\n",
      "  Using cached cycler-0.10.0-py2.py3-none-any.whl (6.5 kB)\n",
      "Requirement already satisfied: six>=1.5 in c:\\users\\khdho\\anaconda3\\envs\\iml\\lib\\site-packages (from python-dateutil>=2.1->matplotlib) (1.15.0)\n",
      "Installing collected packages: kiwisolver, pillow, cycler, matplotlib\n",
      "Successfully installed cycler-0.10.0 kiwisolver-1.3.1 matplotlib-3.3.2 pillow-8.0.1\n",
      "Note: you may need to restart the kernel to use updated packages.\n"
     ]
    }
   ],
   "source": [
    "pip install matplotlib"
   ]
  },
  {
   "cell_type": "code",
   "execution_count": 2,
   "metadata": {},
   "outputs": [],
   "source": [
    "import pandas as pd\n",
    "import numpy as np\n",
    "import cv2\n",
    "from sklearn.preprocessing import StandardScaler\n",
    "from sklearn.neural_network import MLPClassifier\n",
    "import tensorflow as tf\n",
    "from tensorflow  import keras\n",
    "from tensorflow.keras.models import Sequential\n",
    "from tensorflow.keras.layers import Dense, Flatten, Softmax, Conv2D, MaxPooling2D,BatchNormalization,Dropout\n",
    "from tensorflow.keras.preprocessing.image import ImageDataGenerator\n",
    "from sklearn.metrics import classification_report,confusion_matrix\n",
    "import matplotlib.pyplot as plt"
   ]
  },
  {
   "cell_type": "code",
   "execution_count": 3,
   "metadata": {},
   "outputs": [
    {
     "data": {
      "text/plain": [
       "(27455, 785)"
      ]
     },
     "execution_count": 3,
     "metadata": {},
     "output_type": "execute_result"
    }
   ],
   "source": [
    "data = pd.read_csv('sign_mnist_train\\sign_mnist_train.csv')\n",
    "data.shape"
   ]
  },
  {
   "cell_type": "code",
   "execution_count": 4,
   "metadata": {},
   "outputs": [],
   "source": [
    "Y = data['label']\n",
    "X = data.drop('label', 1)\n",
    "\n",
    "#Y.describe()\n"
   ]
  },
  {
   "cell_type": "code",
   "execution_count": null,
   "metadata": {},
   "outputs": [],
   "source": []
  },
  {
   "cell_type": "code",
   "execution_count": 5,
   "metadata": {},
   "outputs": [],
   "source": [
    "myDict = {0: 'A', 1:'B', 2:'C', 3:'D', 4:'E', 5:'F', 6:'G', 7:'H', 8:'I', 9:'J', 10:'K', 11:'L', 12:'M',\n",
    "          13: 'N', 14:'O', 15:'P', 16:'Q', 17:'R', 18:'S', 19:'T', 20:'U', 21:'V', 22:'W', 23:'X', 24:'Y', 25:'Z'}"
   ]
  },
  {
   "cell_type": "code",
   "execution_count": 6,
   "metadata": {},
   "outputs": [],
   "source": [
    "from sklearn.model_selection import train_test_split"
   ]
  },
  {
   "cell_type": "code",
   "execution_count": 7,
   "metadata": {},
   "outputs": [],
   "source": [
    "X_train, X_test, y_train, y_test = train_test_split(X, Y, test_size=0.33, random_state=42)"
   ]
  },
  {
   "cell_type": "code",
   "execution_count": null,
   "metadata": {},
   "outputs": [],
   "source": []
  },
  {
   "cell_type": "code",
   "execution_count": 49,
   "metadata": {},
   "outputs": [],
   "source": [
    "from sklearn.preprocessing import StandardScaler \n",
    "from sklearn import preprocessing\n",
    "\n",
    "normalizer = preprocessing.Normalizer().fit(X_train)\n",
    "X_train    =    normalizer.transform(X_train) \n",
    "X_test     =   normalizer.transform(X_test)\n",
    "\n",
    "#scaler = StandardScaler()\n",
    "#scaler.fit(X_train)\n",
    "#X_train = scaler.transform(X_train)\n",
    "#X_test = scaler.transform(X_test)  "
   ]
  },
  {
   "cell_type": "code",
   "execution_count": 50,
   "metadata": {},
   "outputs": [],
   "source": [
    "clf = MLPClassifier(hidden_layer_sizes = (10,10,10,10,10), random_state=1, max_iter=300, early_stopping=True).fit(X_train, y_train)"
   ]
  },
  {
   "cell_type": "code",
   "execution_count": 51,
   "metadata": {},
   "outputs": [
    {
     "data": {
      "text/plain": [
       "0.9719677739763823"
      ]
     },
     "execution_count": 51,
     "metadata": {},
     "output_type": "execute_result"
    }
   ],
   "source": [
    "clf.score(X_test, y_test)"
   ]
  },
  {
   "cell_type": "code",
   "execution_count": 57,
   "metadata": {},
   "outputs": [],
   "source": [
    "Y_pred = clf.predict(X_test[:1, :])"
   ]
  },
  {
   "cell_type": "code",
   "execution_count": 2,
   "metadata": {},
   "outputs": [
    {
     "ename": "NameError",
     "evalue": "name 'Y_pred' is not defined",
     "output_type": "error",
     "traceback": [
      "\u001b[1;31m---------------------------------------------------------------------------\u001b[0m",
      "\u001b[1;31mNameError\u001b[0m                                 Traceback (most recent call last)",
      "\u001b[1;32m<ipython-input-2-acab7e79ac83>\u001b[0m in \u001b[0;36m<module>\u001b[1;34m\u001b[0m\n\u001b[1;32m----> 1\u001b[1;33m \u001b[0mtype\u001b[0m\u001b[1;33m(\u001b[0m\u001b[0mY_pred\u001b[0m\u001b[1;33m)\u001b[0m\u001b[1;33m\u001b[0m\u001b[1;33m\u001b[0m\u001b[0m\n\u001b[0m",
      "\u001b[1;31mNameError\u001b[0m: name 'Y_pred' is not defined"
     ]
    }
   ],
   "source": [
    "type(Y_pred)"
   ]
  },
  {
   "cell_type": "code",
   "execution_count": 59,
   "metadata": {},
   "outputs": [
    {
     "name": "stdout",
     "output_type": "stream",
     "text": [
      "Y\n"
     ]
    }
   ],
   "source": [
    "for i, val in enumerate(Y_pred):\n",
    "    print(myDict.get(val))"
   ]
  },
  {
   "cell_type": "code",
   "execution_count": 62,
   "metadata": {},
   "outputs": [
    {
     "data": {
      "text/plain": [
       "[<matplotlib.lines.Line2D at 0x22c08f6f6c8>]"
      ]
     },
     "execution_count": 62,
     "metadata": {},
     "output_type": "execute_result"
    },
    {
     "data": {
      "image/png": "[encoded data removed]",
      "text/plain": [
       "<Figure size 432x288 with 1 Axes>"
      ]
     },
     "metadata": {
      "needs_background": "light"
     },
     "output_type": "display_data"
    }
   ],
   "source": [
    "plt.plot(clf.loss_curve_)\n",
    "#plt.plot(clf.validation_scores_)"
   ]
  },
  {
   "cell_type": "code",
   "execution_count": 63,
   "metadata": {},
   "outputs": [],
   "source": [
    "from sklearn.model_selection import cross_val_score\n",
    "scores  = cross_val_score(clf, X_train, y_train, cv=5)"
   ]
  },
  {
   "cell_type": "code",
   "execution_count": 64,
   "metadata": {},
   "outputs": [
    {
     "name": "stdout",
     "output_type": "stream",
     "text": [
      "Accuracy: 0.96 (+/- 0.02)\n"
     ]
    }
   ],
   "source": [
    "print(\"genAccuracy: %0.2f (+/- %0.2f)\" % (scores.mean(), scores.std() * 2))"
   ]
  },
  {
   "cell_type": "code",
   "execution_count": 16,
   "metadata": {},
   "outputs": [],
   "source": [
    "clf2 = clf = MLPClassifier(hidden_layer_sizes = (10,10,10,10,10), random_state=1, max_iter=300)"
   ]
  },
  {
   "cell_type": "code",
   "execution_count": 65,
   "metadata": {},
   "outputs": [],
   "source": [
    "from sklearn.linear_model import LinearRegression\n",
    "from sklearn.model_selection import learning_curve\n",
    "train_sizes, train_scores, validation_scores = learning_curve(\n",
    "estimator = clf,\n",
    "scoring = 'neg_log_loss',\n",
    "X = X_train,\n",
    "y = y_train, cv = 3)"
   ]
  },
  {
   "cell_type": "code",
   "execution_count": 66,
   "metadata": {},
   "outputs": [
    {
     "name": "stdout",
     "output_type": "stream",
     "text": [
      "training set size =  5\n",
      "Training scores:\n",
      "\n",
      " [[-3.19425886 -3.03485171 -3.03485171]\n",
      " [-0.22593761 -0.34578989 -0.34578989]\n",
      " [-0.34488419 -0.25136491 -0.14129537]\n",
      " [-0.229349   -0.06251978 -0.08922531]\n",
      " [-0.06722912 -0.05783618 -0.07670813]]\n",
      "\n",
      " ----------------------------------------------------------------------\n",
      "\n",
      "Validation scores:\n",
      "\n",
      " [[-3.2055674  -3.06422918 -3.06317934]\n",
      " [-0.81924984 -0.93015381 -0.85344267]\n",
      " [-0.56461391 -0.38881329 -0.34555972]\n",
      " [-0.34877923 -0.18498167 -0.25395311]\n",
      " [-0.12630042 -0.09374993 -0.15730852]]\n"
     ]
    }
   ],
   "source": [
    "print(\"training set size = \", len(train_sizes))\n",
    "print('Training scores:\\n\\n', train_scores)\n",
    "print('\\n', '-' * 70) # separator to make the output easy to read\n",
    "print('\\nValidation scores:\\n\\n', validation_scores)"
   ]
  },
  {
   "cell_type": "code",
   "execution_count": 67,
   "metadata": {},
   "outputs": [],
   "source": [
    "train_scores_mean = -train_scores.mean(axis = 1)\n",
    "validation_scores_mean = -validation_scores.mean(axis = 1)"
   ]
  },
  {
   "cell_type": "code",
   "execution_count": 68,
   "metadata": {},
   "outputs": [
    {
     "name": "stdout",
     "output_type": "stream",
     "text": [
      "mean training scores =  [3.08798743 0.30583913 0.24584816 0.12703136 0.06725781]\n",
      "mean val scores =  [3.11099197 0.86761544 0.43299564 0.26257134 0.12578629]\n"
     ]
    }
   ],
   "source": [
    "print(\"mean training scores = \", train_scores_mean)\n",
    "print(\"mean val scores = \", validation_scores_mean)"
   ]
  },
  {
   "cell_type": "code",
   "execution_count": 69,
   "metadata": {},
   "outputs": [
    {
     "data": {
      "text/plain": [
       "<matplotlib.legend.Legend at 0x22c09101e88>"
      ]
     },
     "execution_count": 69,
     "metadata": {},
     "output_type": "execute_result"
    },
    {
     "data": {
      "image/png": "[encoded data removed]",
      "text/plain": [
       "<Figure size 576x396 with 1 Axes>"
      ]
     },
     "metadata": {},
     "output_type": "display_data"
    }
   ],
   "source": [
    "\n",
    "\n",
    "plt.style.use('seaborn')\n",
    "plt.plot(train_sizes, train_scores_mean, label = 'Training error')\n",
    "plt.plot(train_sizes, validation_scores_mean, label = 'Validation error')\n",
    "plt.ylabel('log_prob', fontsize = 14)\n",
    "plt.xlabel('Training set size', fontsize = 14)\n",
    "plt.title('Learning curves for a MLP model', fontsize = 18, y = 1.03)\n",
    "plt.legend()\n",
    "#plt.ylim(0,40)"
   ]
  },
  {
   "cell_type": "code",
   "execution_count": 71,
   "metadata": {},
   "outputs": [
    {
     "name": "stdout",
     "output_type": "stream",
     "text": [
      "predicted alphabet  =  [16]\n"
     ]
    },
    {
     "ename": "TypeError",
     "evalue": "unhashable type: 'numpy.ndarray'",
     "output_type": "error",
     "traceback": [
      "\u001b[1;31m---------------------------------------------------------------------------\u001b[0m",
      "\u001b[1;31mTypeError\u001b[0m                                 Traceback (most recent call last)",
      "\u001b[1;32m<ipython-input-71-db4320e75815>\u001b[0m in \u001b[0;36m<module>\u001b[1;34m\u001b[0m\n\u001b[0;32m     19\u001b[0m         \u001b[0my_pred\u001b[0m \u001b[1;33m=\u001b[0m \u001b[0mclf\u001b[0m\u001b[1;33m.\u001b[0m\u001b[0mpredict\u001b[0m\u001b[1;33m(\u001b[0m\u001b[0mgray_img\u001b[0m\u001b[1;33m)\u001b[0m\u001b[1;33m\u001b[0m\u001b[1;33m\u001b[0m\u001b[0m\n\u001b[0;32m     20\u001b[0m         \u001b[0mprint\u001b[0m\u001b[1;33m(\u001b[0m\u001b[1;34m\"predicted alphabet  = \"\u001b[0m\u001b[1;33m,\u001b[0m \u001b[0my_pred\u001b[0m\u001b[1;33m)\u001b[0m\u001b[1;33m\u001b[0m\u001b[1;33m\u001b[0m\u001b[0m\n\u001b[1;32m---> 21\u001b[1;33m         \u001b[0mtext_to_audio\u001b[0m\u001b[1;33m(\u001b[0m\u001b[0mmyDict\u001b[0m\u001b[1;33m.\u001b[0m\u001b[0mget\u001b[0m\u001b[1;33m(\u001b[0m\u001b[0my_pred\u001b[0m\u001b[1;33m)\u001b[0m\u001b[1;33m)\u001b[0m\u001b[1;33m\u001b[0m\u001b[1;33m\u001b[0m\u001b[0m\n\u001b[0m\u001b[0;32m     22\u001b[0m \u001b[1;33m\u001b[0m\u001b[0m\n\u001b[0;32m     23\u001b[0m         \u001b[0mresult\u001b[0m \u001b[1;33m=\u001b[0m \u001b[1;32mFalse\u001b[0m\u001b[1;33m\u001b[0m\u001b[1;33m\u001b[0m\u001b[0m\n",
      "\u001b[1;31mTypeError\u001b[0m: unhashable type: 'numpy.ndarray'"
     ]
    }
   ],
   "source": [
    "import cv2\n",
    "\n",
    "videoCaptureObject = cv2.VideoCapture(0)\n",
    "result = True\n",
    "while(result):\n",
    "    ret,frame = videoCaptureObject.read()\n",
    "    cv2.imshow(\"test\", frame)\n",
    "    k = cv2.waitKey(1)\n",
    "    \n",
    "    if k%256 == 27:\n",
    "        print(\"Escape hit, closing...\")\n",
    "        break\n",
    "    elif k%256 == 32:\n",
    "        cv2.imwrite(\"input_image.jpg\",frame)\n",
    "        img = cv2.imread(\"input_image.jpg\")\n",
    "        gray_image = cv2.cvtColor(img, cv2.COLOR_BGR2GRAY) \n",
    "        gray_img = cv2.resize(gray_image, (28, 28)).reshape(1,784)\n",
    "       # gray_img = normalizer.transform(gray_img)\n",
    "        y_pred = clf.predict(gray_img)\n",
    "        \n",
    "        print(\"predicted alphabet  = \", y_pred)\n",
    "        #text_to_audio(myDict.get(y_pred))\n",
    "        \n",
    "        result = False\n",
    "\n",
    "        \n",
    "videoCaptureObject.release()\n",
    "cv2.destroyAllWindows()"
   ]
  },
  {
   "cell_type": "code",
   "execution_count": 1,
   "metadata": {},
   "outputs": [
    {
     "ename": "NameError",
     "evalue": "name 'myDict' is not defined",
     "output_type": "error",
     "traceback": [
      "\u001b[1;31m---------------------------------------------------------------------------\u001b[0m",
      "\u001b[1;31mNameError\u001b[0m                                 Traceback (most recent call last)",
      "\u001b[1;32m<ipython-input-1-3d8c9a62620a>\u001b[0m in \u001b[0;36m<module>\u001b[1;34m\u001b[0m\n\u001b[1;32m----> 1\u001b[1;33m \u001b[0mmyDict\u001b[0m\u001b[1;33m.\u001b[0m\u001b[0mget\u001b[0m\u001b[1;33m(\u001b[0m\u001b[1;36m16\u001b[0m\u001b[1;33m)\u001b[0m\u001b[1;33m\u001b[0m\u001b[1;33m\u001b[0m\u001b[0m\n\u001b[0m",
      "\u001b[1;31mNameError\u001b[0m: name 'myDict' is not defined"
     ]
    }
   ],
   "source": [
    "myDict.get(16)"
   ]
  },
  {
   "cell_type": "code",
   "execution_count": 46,
   "metadata": {},
   "outputs": [],
   "source": [
    "import pyttsx3 \n",
    "def text_to_audio(letter):\n",
    "    # Initialize the converter \n",
    "    converter = pyttsx3.init() \n",
    "\n",
    "    # Set properties before adding \n",
    "    # Things to say \n",
    "\n",
    "    # Sets speed percent  \n",
    "    # Can be more than 100 \n",
    "    converter.setProperty('rate', 150) \n",
    "    # Set volume 0-1 \n",
    "    converter.setProperty('volume', 0.7) \n",
    "\n",
    "    # Queue the entered text  \n",
    "    # There will be a pause between \n",
    "    # each one like a pause in  \n",
    "    # a sentence \n",
    "    converter.say(letter)\n",
    "    #converter.say(\"Hello GeeksforGeeks\") \n",
    "    #converter.say(\"I'm also a geek\") \n",
    "\n",
    "    # Empties the say() queue \n",
    "    # Program will not continue \n",
    "    # until all speech is done talking \n",
    "    converter.runAndWait() "
   ]
  },
  {
   "cell_type": "markdown",
   "metadata": {},
   "source": [
    "MODEL 2 : CNN"
   ]
  },
  {
   "cell_type": "code",
   "execution_count": 8,
   "metadata": {},
   "outputs": [],
   "source": [
    "# Reshaping the data from 1-D to 3-D as required through input by CNN's\n",
    "X_train = np.array(X_train).reshape(-1,28,28,1)\n",
    "X_test = np.array(X_test).reshape(-1,28,28,1)"
   ]
  },
  {
   "cell_type": "code",
   "execution_count": 9,
   "metadata": {},
   "outputs": [
    {
     "data": {
      "text/plain": [
       "(18394, 28, 28, 1)"
      ]
     },
     "execution_count": 9,
     "metadata": {},
     "output_type": "execute_result"
    }
   ],
   "source": [
    "X_train.shape"
   ]
  },
  {
   "cell_type": "code",
   "execution_count": 10,
   "metadata": {},
   "outputs": [
    {
     "data": {
      "text/plain": [
       "(9061, 28, 28, 1)"
      ]
     },
     "execution_count": 10,
     "metadata": {},
     "output_type": "execute_result"
    }
   ],
   "source": [
    "X_test.shape"
   ]
  },
  {
   "cell_type": "code",
   "execution_count": 11,
   "metadata": {},
   "outputs": [
    {
     "data": {
      "image/png": "[encoded data removed]",
      "text/plain": [
       "<Figure size 720x720 with 15 Axes>"
      ]
     },
     "metadata": {
      "needs_background": "light"
     },
     "output_type": "display_data"
    }
   ],
   "source": [
    "f, ax = plt.subplots(3,5) \n",
    "f.set_size_inches(10, 10)\n",
    "k = 0\n",
    "for i in range(2):\n",
    "    for j in range(5):\n",
    "        ax[i,j].imshow(X_train[k].reshape(28, 28) , cmap = \"gray\")\n",
    "        k += 1\n",
    "    plt.tight_layout()    "
   ]
  },
  {
   "cell_type": "code",
   "execution_count": 12,
   "metadata": {},
   "outputs": [],
   "source": [
    "from tensorflow.keras.callbacks import ReduceLROnPlateau\n",
    "learning_rate_reduction = ReduceLROnPlateau(monitor='val_accuracy', patience = 2, verbose=1,factor=0.5, min_lr=0.00001)"
   ]
  },
  {
   "cell_type": "code",
   "execution_count": 13,
   "metadata": {},
   "outputs": [
    {
     "name": "stdout",
     "output_type": "stream",
     "text": [
      "Model: \"sequential\"\n",
      "_________________________________________________________________\n",
      "Layer (type)                 Output Shape              Param #   \n",
      "=================================================================\n",
      "conv2d (Conv2D)              (None, 28, 28, 75)        750       \n",
      "_________________________________________________________________\n",
      "batch_normalization (BatchNo (None, 28, 28, 75)        300       \n",
      "_________________________________________________________________\n",
      "max_pooling2d (MaxPooling2D) (None, 14, 14, 75)        0         \n",
      "_________________________________________________________________\n",
      "conv2d_1 (Conv2D)            (None, 14, 14, 50)        33800     \n",
      "_________________________________________________________________\n",
      "dropout (Dropout)            (None, 14, 14, 50)        0         \n",
      "_________________________________________________________________\n",
      "batch_normalization_1 (Batch (None, 14, 14, 50)        200       \n",
      "_________________________________________________________________\n",
      "max_pooling2d_1 (MaxPooling2 (None, 7, 7, 50)          0         \n",
      "_________________________________________________________________\n",
      "conv2d_2 (Conv2D)            (None, 7, 7, 25)          11275     \n",
      "_________________________________________________________________\n",
      "batch_normalization_2 (Batch (None, 7, 7, 25)          100       \n",
      "_________________________________________________________________\n",
      "max_pooling2d_2 (MaxPooling2 (None, 4, 4, 25)          0         \n",
      "_________________________________________________________________\n",
      "flatten (Flatten)            (None, 400)               0         \n",
      "_________________________________________________________________\n",
      "dense (Dense)                (None, 512)               205312    \n",
      "_________________________________________________________________\n",
      "dropout_1 (Dropout)          (None, 512)               0         \n",
      "_________________________________________________________________\n",
      "dense_1 (Dense)              (None, 24)                12312     \n",
      "=================================================================\n",
      "Total params: 264,049\n",
      "Trainable params: 263,749\n",
      "Non-trainable params: 300\n",
      "_________________________________________________________________\n"
     ]
    }
   ],
   "source": [
    "model = Sequential()\n",
    "model.add(Conv2D(75 , (3,3) , strides = 1 , padding = 'same' , activation = 'relu' , input_shape = (28,28,1)))\n",
    "model.add(BatchNormalization())\n",
    "model.add(MaxPooling2D((2,2) , strides = 2 , padding = 'same'))\n",
    "model.add(Conv2D(50 , (3,3) , strides = 1 , padding = 'same' , activation = 'relu'))\n",
    "model.add(Dropout(0.2))\n",
    "model.add(BatchNormalization())\n",
    "model.add(MaxPooling2D((2,2) , strides = 2 , padding = 'same'))\n",
    "model.add(Conv2D(25 , (3,3) , strides = 1 , padding = 'same' , activation = 'relu'))\n",
    "model.add(BatchNormalization())\n",
    "model.add(MaxPooling2D((2,2) , strides = 2 , padding = 'same'))\n",
    "model.add(Flatten())\n",
    "model.add(Dense(units = 512 , activation = 'relu'))\n",
    "model.add(Dropout(0.3))\n",
    "model.add(Dense(units = 24 , activation = 'softmax'))\n",
    "model.compile(optimizer = 'adam' , loss = 'categorical_crossentropy' , metrics = ['accuracy'])\n",
    "model.summary()"
   ]
  },
  {
   "cell_type": "code",
   "execution_count": 14,
   "metadata": {},
   "outputs": [],
   "source": [
    "# With data augmentation to prevent overfitting\n",
    "\n",
    "datagen = ImageDataGenerator(\n",
    "        featurewise_center=False,  # set input mean to 0 over the dataset\n",
    "        samplewise_center=False,  # set each sample mean to 0\n",
    "        featurewise_std_normalization=False,  # divide inputs by std of the dataset\n",
    "        samplewise_std_normalization=False,  # divide each input by its std\n",
    "        zca_whitening=False,  # apply ZCA whitening\n",
    "        rotation_range=10,  # randomly rotate images in the range (degrees, 0 to 180)\n",
    "        zoom_range = 0.1, # Randomly zoom image \n",
    "        width_shift_range=0.1,  # randomly shift images horizontally (fraction of total width)\n",
    "        height_shift_range=0.1,  # randomly shift images vertically (fraction of total height)\n",
    "        horizontal_flip=False,  # randomly flip images\n",
    "        vertical_flip=False)  # randomly flip images\n",
    "\n",
    "\n",
    "datagen.fit(X_train)\n",
    "\n"
   ]
  },
  {
   "cell_type": "code",
   "execution_count": 15,
   "metadata": {},
   "outputs": [],
   "source": [
    "from sklearn.preprocessing import LabelBinarizer\n",
    "label_binarizer = LabelBinarizer()\n",
    "y_train = label_binarizer.fit_transform(y_train)\n",
    "y_test = label_binarizer.fit_transform(y_test)"
   ]
  },
  {
   "cell_type": "code",
   "execution_count": 16,
   "metadata": {},
   "outputs": [
    {
     "name": "stdout",
     "output_type": "stream",
     "text": [
      "WARNING:tensorflow:sample_weight modes were coerced from\n",
      "  ...\n",
      "    to  \n",
      "  ['...']\n",
      "Train for 144 steps, validate on 9061 samples\n",
      "Epoch 1/20\n",
      "144/144 [==============================] - 58s 401ms/step - loss: 1.5062 - accuracy: 0.5390 - val_loss: 0.4309 - val_accuracy: 0.8775\n",
      "Epoch 2/20\n",
      "144/144 [==============================] - 58s 401ms/step - loss: 0.3634 - accuracy: 0.8801 - val_loss: 0.3957 - val_accuracy: 0.8630\n",
      "Epoch 3/20\n",
      "144/144 [==============================] - 55s 381ms/step - loss: 0.1828 - accuracy: 0.9391 - val_loss: 0.0802 - val_accuracy: 0.9737\n",
      "Epoch 4/20\n",
      "144/144 [==============================] - 57s 398ms/step - loss: 0.1100 - accuracy: 0.9647 - val_loss: 0.0420 - val_accuracy: 0.9858\n",
      "Epoch 5/20\n",
      "144/144 [==============================] - 56s 390ms/step - loss: 0.0794 - accuracy: 0.9739 - val_loss: 0.1205 - val_accuracy: 0.9609\n",
      "Epoch 6/20\n",
      "144/144 [==============================] - 55s 383ms/step - loss: 0.0583 - accuracy: 0.9813 - val_loss: 0.0120 - val_accuracy: 0.9966\n",
      "Epoch 7/20\n",
      "144/144 [==============================] - 55s 382ms/step - loss: 0.0456 - accuracy: 0.9857 - val_loss: 0.0297 - val_accuracy: 0.9879\n",
      "Epoch 8/20\n",
      "143/144 [============================>.] - ETA: 0s - loss: 0.0416 - accuracy: 0.9869\n",
      "Epoch 00008: ReduceLROnPlateau reducing learning rate to 0.0005000000237487257.\n",
      "144/144 [==============================] - 47s 326ms/step - loss: 0.0415 - accuracy: 0.9870 - val_loss: 0.1246 - val_accuracy: 0.9550\n",
      "Epoch 9/20\n",
      "144/144 [==============================] - 47s 324ms/step - loss: 0.0250 - accuracy: 0.9931 - val_loss: 0.0024 - val_accuracy: 0.9999\n",
      "Epoch 10/20\n",
      "144/144 [==============================] - 46s 322ms/step - loss: 0.0202 - accuracy: 0.9940 - val_loss: 0.0256 - val_accuracy: 0.9919\n",
      "Epoch 11/20\n",
      "144/144 [==============================] - 46s 322ms/step - loss: 0.0176 - accuracy: 0.9948 - val_loss: 0.0010 - val_accuracy: 1.0000\n",
      "Epoch 12/20\n",
      "144/144 [==============================] - 47s 324ms/step - loss: 0.0149 - accuracy: 0.9954 - val_loss: 0.0020 - val_accuracy: 0.9998\n",
      "Epoch 13/20\n",
      "143/144 [============================>.] - ETA: 0s - loss: 0.0156 - accuracy: 0.9956\n",
      "Epoch 00013: ReduceLROnPlateau reducing learning rate to 0.0002500000118743628.\n",
      "144/144 [==============================] - 47s 329ms/step - loss: 0.0155 - accuracy: 0.9956 - val_loss: 0.0065 - val_accuracy: 0.9983\n",
      "Epoch 14/20\n",
      "144/144 [==============================] - 47s 324ms/step - loss: 0.0125 - accuracy: 0.9966 - val_loss: 0.0022 - val_accuracy: 0.9999\n",
      "Epoch 15/20\n",
      "143/144 [============================>.] - ETA: 0s - loss: 0.0119 - accuracy: 0.9969\n",
      "Epoch 00015: ReduceLROnPlateau reducing learning rate to 0.0001250000059371814.\n",
      "144/144 [==============================] - 46s 320ms/step - loss: 0.0119 - accuracy: 0.9970 - val_loss: 3.6536e-04 - val_accuracy: 1.0000\n",
      "Epoch 16/20\n",
      "144/144 [==============================] - 46s 319ms/step - loss: 0.0088 - accuracy: 0.9973 - val_loss: 4.4960e-04 - val_accuracy: 1.0000\n",
      "Epoch 17/20\n",
      "143/144 [============================>.] - ETA: 0s - loss: 0.0074 - accuracy: 0.9979\n",
      "Epoch 00017: ReduceLROnPlateau reducing learning rate to 6.25000029685907e-05.\n",
      "144/144 [==============================] - 46s 318ms/step - loss: 0.0074 - accuracy: 0.9979 - val_loss: 1.9384e-04 - val_accuracy: 1.0000\n",
      "Epoch 18/20\n",
      "144/144 [==============================] - 46s 321ms/step - loss: 0.0064 - accuracy: 0.9985 - val_loss: 1.8548e-04 - val_accuracy: 1.0000\n",
      "Epoch 19/20\n",
      "143/144 [============================>.] - ETA: 0s - loss: 0.0068 - accuracy: 0.9980\n",
      "Epoch 00019: ReduceLROnPlateau reducing learning rate to 3.125000148429535e-05.\n",
      "144/144 [==============================] - 46s 320ms/step - loss: 0.0068 - accuracy: 0.9980 - val_loss: 1.2498e-04 - val_accuracy: 1.0000\n",
      "Epoch 20/20\n",
      "144/144 [==============================] - 46s 320ms/step - loss: 0.0075 - accuracy: 0.9983 - val_loss: 1.1466e-04 - val_accuracy: 1.0000\n"
     ]
    }
   ],
   "source": [
    "history = model.fit(datagen.flow(X_train,y_train, batch_size = 128) ,epochs = 20 , validation_data = (X_test, y_test) , callbacks = [learning_rate_reduction])"
   ]
  },
  {
   "cell_type": "code",
   "execution_count": 17,
   "metadata": {},
   "outputs": [
    {
     "data": {
      "image/png": "[encoded data removed]",
      "text/plain": [
       "<Figure size 1152x648 with 2 Axes>"
      ]
     },
     "metadata": {
      "needs_background": "light"
     },
     "output_type": "display_data"
    }
   ],
   "source": [
    "epochs = [i for i in range(20)]\n",
    "fig , ax = plt.subplots(1,2)\n",
    "train_acc = history.history['accuracy']\n",
    "train_loss = history.history['loss']\n",
    "val_acc = history.history['val_accuracy']\n",
    "val_loss = history.history['val_loss']\n",
    "fig.set_size_inches(16,9)\n",
    "\n",
    "ax[0].plot(epochs , train_acc , 'go-' , label = 'Training Accuracy')\n",
    "ax[0].plot(epochs , val_acc , 'ro-' , label = 'Testing Accuracy')\n",
    "ax[0].set_title('Training & Validation Accuracy')\n",
    "ax[0].legend()\n",
    "ax[0].set_xlabel(\"Epochs\")\n",
    "ax[0].set_ylabel(\"Accuracy\")\n",
    "\n",
    "ax[1].plot(epochs , train_loss , 'g-o' , label = 'Training Loss')\n",
    "ax[1].plot(epochs , val_loss , 'r-o' , label = 'Testing Loss')\n",
    "ax[1].set_title('Testing Accuracy & Loss')\n",
    "ax[1].legend()\n",
    "ax[1].set_xlabel(\"Epochs\")\n",
    "ax[1].set_ylabel(\"Loss\")\n",
    "plt.show()"
   ]
  },
  {
   "cell_type": "code",
   "execution_count": 18,
   "metadata": {},
   "outputs": [],
   "source": [
    "predictions = model.predict_classes(X_test)"
   ]
  },
  {
   "cell_type": "code",
   "execution_count": 19,
   "metadata": {},
   "outputs": [],
   "source": [
    "#model.save_weights(\"Sign_detection_model.h5\")\n",
    "model.save('Sign_detection.h5')"
   ]
  },
  {
   "cell_type": "code",
   "execution_count": 21,
   "metadata": {},
   "outputs": [],
   "source": [
    "from tensorflow import keras\n",
    "model = keras.models.load_model('Sign_detection.h5')"
   ]
  },
  {
   "cell_type": "code",
   "execution_count": 26,
   "metadata": {},
   "outputs": [
    {
     "data": {
      "text/plain": [
       "array([23], dtype=int64)"
      ]
     },
     "execution_count": 26,
     "metadata": {},
     "output_type": "execute_result"
    }
   ],
   "source": [
    "#model.predict_classes(X_test)\n",
    "model.predict_classes(test)"
   ]
  },
  {
   "cell_type": "code",
   "execution_count": 24,
   "metadata": {},
   "outputs": [
    {
     "data": {
      "image/png": "[encoded data removed]",
      "text/plain": [
       "<Figure size 720x720 with 15 Axes>"
      ]
     },
     "metadata": {
      "needs_background": "light"
     },
     "output_type": "display_data"
    }
   ],
   "source": [
    "test = X_test[:1]\n",
    "\n",
    "f, ax = plt.subplots(3,5) \n",
    "f.set_size_inches(10, 10)\n",
    "ax[i,j].imshow(test.reshape(28, 28) , cmap = \"gray\")\n",
    "#k += 1\n",
    "plt.tight_layout() \n"
   ]
  },
  {
   "cell_type": "code",
   "execution_count": 20,
   "metadata": {},
   "outputs": [],
   "source": [
    "predictions = model.predict_classes(test)"
   ]
  },
  {
   "cell_type": "code",
   "execution_count": 23,
   "metadata": {},
   "outputs": [
    {
     "ename": "ModuleNotFoundError",
     "evalue": "No module named 'pyttsx3'",
     "output_type": "error",
     "traceback": [
      "\u001b[1;31m---------------------------------------------------------------------------\u001b[0m",
      "\u001b[1;31mModuleNotFoundError\u001b[0m                       Traceback (most recent call last)",
      "\u001b[1;32m<ipython-input-23-e8e35e693ede>\u001b[0m in \u001b[0;36m<module>\u001b[1;34m\u001b[0m\n\u001b[1;32m----> 1\u001b[1;33m \u001b[1;32mimport\u001b[0m \u001b[0mpyttsx3\u001b[0m\u001b[1;33m\u001b[0m\u001b[1;33m\u001b[0m\u001b[0m\n\u001b[0m\u001b[0;32m      2\u001b[0m \u001b[1;32mdef\u001b[0m \u001b[0mtext_to_audio\u001b[0m\u001b[1;33m(\u001b[0m\u001b[0mletter\u001b[0m\u001b[1;33m)\u001b[0m\u001b[1;33m:\u001b[0m\u001b[1;33m\u001b[0m\u001b[1;33m\u001b[0m\u001b[0m\n\u001b[0;32m      3\u001b[0m     \u001b[1;31m# Initialize the converter\u001b[0m\u001b[1;33m\u001b[0m\u001b[1;33m\u001b[0m\u001b[1;33m\u001b[0m\u001b[0m\n\u001b[0;32m      4\u001b[0m     \u001b[0mconverter\u001b[0m \u001b[1;33m=\u001b[0m \u001b[0mpyttsx3\u001b[0m\u001b[1;33m.\u001b[0m\u001b[0minit\u001b[0m\u001b[1;33m(\u001b[0m\u001b[1;33m)\u001b[0m\u001b[1;33m\u001b[0m\u001b[1;33m\u001b[0m\u001b[0m\n\u001b[0;32m      5\u001b[0m \u001b[1;33m\u001b[0m\u001b[0m\n",
      "\u001b[1;31mModuleNotFoundError\u001b[0m: No module named 'pyttsx3'"
     ]
    }
   ],
   "source": [
    "import pyttsx3 \n",
    "def text_to_audio(letter):\n",
    "    # Initialize the converter \n",
    "    converter = pyttsx3.init() \n",
    "\n",
    "    # Set properties before adding \n",
    "    # Things to say \n",
    "\n",
    "    # Sets speed percent  \n",
    "    # Can be more than 100 \n",
    "    converter.setProperty('rate', 150) \n",
    "    # Set volume 0-1 \n",
    "    converter.setProperty('volume', 0.7) \n",
    "\n",
    "    # Queue the entered text  \n",
    "    # There will be a pause between \n",
    "    # each one like a pause in  \n",
    "    # a sentence \n",
    "    converter.say(\"letter indicated through sign language is\")\n",
    "    converter.say(letter)\n",
    "    #converter.say(\"Hello GeeksforGeeks\") \n",
    "    #converter.say(\"I'm also a geek\") \n",
    "\n",
    "    # Empties the say() queue \n",
    "    # Program will not continue \n",
    "    # until all speech is done talking \n",
    "    converter.runAndWait() "
   ]
  },
  {
   "cell_type": "code",
   "execution_count": 51,
   "metadata": {},
   "outputs": [
    {
     "name": "stdout",
     "output_type": "stream",
     "text": [
      "predicted alphabet  =  [23]\n"
     ]
    }
   ],
   "source": [
    "import cv2\n",
    "\n",
    "videoCaptureObject = cv2.VideoCapture(0)\n",
    "result = True\n",
    "while(result):\n",
    "    ret,frame = videoCaptureObject.read()\n",
    "    cv2.imshow(\"test\", frame)\n",
    "    k = cv2.waitKey(1)\n",
    "    \n",
    "    if k%256 == 27:\n",
    "        print(\"Escape hit, closing...\")\n",
    "        break\n",
    "    elif k%256 == 32:\n",
    "        cv2.imwrite(\"input_image.jpg\",frame)\n",
    "        img = cv2.imread(\"input_image.jpg\")\n",
    "        gray_image = cv2.cvtColor(img, cv2.COLOR_BGR2GRAY) \n",
    "        gray_img = cv2.resize(gray_image, (28, 28)).reshape(1,28,28,1)\n",
    "        #ax[2,1].imshow(gray_img.reshape(28, 28) , cmap = \"gray\")\n",
    "        cv2.imshow(\"image\", gray_img.reshape(28, 28))\n",
    "        y_pred =  model.predict_classes(gray_img)\n",
    "        print(\"predicted alphabet  = \", y_pred) \n",
    "        text_to_audio(myDict.get(y_pred[0]))\n",
    "        \n",
    "        result = False\n",
    "\n",
    "        \n",
    "videoCaptureObject.release()\n",
    "cv2.destroyAllWindows()"
   ]
  },
  {
   "cell_type": "code",
   "execution_count": 50,
   "metadata": {},
   "outputs": [],
   "source": [
    "cv2.imshow(\"image\", gray_img.reshape(28, 28))"
   ]
  },
  {
   "cell_type": "code",
   "execution_count": 48,
   "metadata": {},
   "outputs": [
    {
     "ename": "AttributeError",
     "evalue": "module 'scipy.misc' has no attribute 'toimage'",
     "output_type": "error",
     "traceback": [
      "\u001b[1;31m---------------------------------------------------------------------------\u001b[0m",
      "\u001b[1;31mAttributeError\u001b[0m                            Traceback (most recent call last)",
      "\u001b[1;32m<ipython-input-48-3c61f2f1df4e>\u001b[0m in \u001b[0;36m<module>\u001b[1;34m\u001b[0m\n\u001b[0;32m      1\u001b[0m \u001b[1;32mimport\u001b[0m \u001b[0mscipy\u001b[0m\u001b[1;33m.\u001b[0m\u001b[0mmisc\u001b[0m\u001b[1;33m\u001b[0m\u001b[1;33m\u001b[0m\u001b[0m\n\u001b[1;32m----> 2\u001b[1;33m \u001b[0mrgb\u001b[0m \u001b[1;33m=\u001b[0m \u001b[0mscipy\u001b[0m\u001b[1;33m.\u001b[0m\u001b[0mmisc\u001b[0m\u001b[1;33m.\u001b[0m\u001b[0mtoimage\u001b[0m\u001b[1;33m(\u001b[0m\u001b[0mnp_array\u001b[0m\u001b[1;33m)\u001b[0m\u001b[1;33m\u001b[0m\u001b[1;33m\u001b[0m\u001b[0m\n\u001b[0m",
      "\u001b[1;31mAttributeError\u001b[0m: module 'scipy.misc' has no attribute 'toimage'"
     ]
    }
   ],
   "source": [
    "import scipy.misc\n",
    "rgb = scipy.misc.toimage(np_array)"
   ]
  },
  {
   "cell_type": "code",
   "execution_count": 45,
   "metadata": {},
   "outputs": [
    {
     "data": {
      "text/plain": [
       "'O'"
      ]
     },
     "execution_count": 45,
     "metadata": {},
     "output_type": "execute_result"
    }
   ],
   "source": [
    "x"
   ]
  },
  {
   "cell_type": "code",
   "execution_count": 53,
   "metadata": {},
   "outputs": [],
   "source": [
    "text_to_audio(14)"
   ]
  },
  {
   "cell_type": "code",
   "execution_count": 56,
   "metadata": {},
   "outputs": [],
   "source": [
    "import time"
   ]
  },
  {
   "cell_type": "code",
   "execution_count": 58,
   "metadata": {},
   "outputs": [
    {
     "name": "stdout",
     "output_type": "stream",
     "text": [
      "predicted alphabet  =  [15]\n",
      "predicted alphabet  =  [14]\n",
      "predicted alphabet  =  [14]\n",
      "predicted alphabet  =  [7]\n",
      "predicted alphabet  =  [7]\n",
      "predicted alphabet  =  [7]\n",
      "predicted alphabet  =  [7]\n",
      "predicted alphabet  =  [14]\n",
      "predicted alphabet  =  [7]\n",
      "predicted alphabet  =  [14]\n",
      "predicted alphabet  =  [5]\n",
      "predicted alphabet  =  [14]\n",
      "predicted alphabet  =  [14]\n",
      "predicted alphabet  =  [14]\n",
      "predicted alphabet  =  [14]\n"
     ]
    },
    {
     "ename": "KeyboardInterrupt",
     "evalue": "",
     "output_type": "error",
     "traceback": [
      "\u001b[1;31m---------------------------------------------------------------------------\u001b[0m",
      "\u001b[1;31mKeyboardInterrupt\u001b[0m                         Traceback (most recent call last)",
      "\u001b[1;32m<ipython-input-58-0fc030b60484>\u001b[0m in \u001b[0;36m<module>\u001b[1;34m\u001b[0m\n\u001b[0;32m     27\u001b[0m \u001b[1;33m\u001b[0m\u001b[0m\n\u001b[0;32m     28\u001b[0m     \u001b[1;31m# Show the image and keep streaming\u001b[0m\u001b[1;33m\u001b[0m\u001b[1;33m\u001b[0m\u001b[1;33m\u001b[0m\u001b[0m\n\u001b[1;32m---> 29\u001b[1;33m     \u001b[0m_\u001b[0m\u001b[1;33m,\u001b[0m \u001b[0mimg\u001b[0m \u001b[1;33m=\u001b[0m \u001b[0mcam\u001b[0m\u001b[1;33m.\u001b[0m\u001b[0mread\u001b[0m\u001b[1;33m(\u001b[0m\u001b[1;33m)\u001b[0m\u001b[1;33m\u001b[0m\u001b[1;33m\u001b[0m\u001b[0m\n\u001b[0m\u001b[0;32m     30\u001b[0m     \u001b[0mcv2\u001b[0m\u001b[1;33m.\u001b[0m\u001b[0mimshow\u001b[0m\u001b[1;33m(\u001b[0m\u001b[1;34m\"Frame\"\u001b[0m\u001b[1;33m,\u001b[0m \u001b[0mimg\u001b[0m\u001b[1;33m)\u001b[0m\u001b[1;33m\u001b[0m\u001b[1;33m\u001b[0m\u001b[0m\n\u001b[0;32m     31\u001b[0m     \u001b[0mcv2\u001b[0m\u001b[1;33m.\u001b[0m\u001b[0mwaitKey\u001b[0m\u001b[1;33m(\u001b[0m\u001b[1;36m1\u001b[0m\u001b[1;33m)\u001b[0m\u001b[1;33m\u001b[0m\u001b[1;33m\u001b[0m\u001b[0m\n",
      "\u001b[1;31mKeyboardInterrupt\u001b[0m: "
     ]
    }
   ],
   "source": [
    "from time import time\n",
    "import cv2\n",
    "\n",
    "# Create a new VideoCapture object\n",
    "cam = cv2.VideoCapture(0)\n",
    "\n",
    "# Initialise variables to store current time difference as well as previous time call value\n",
    "previous = time()\n",
    "delta = 0\n",
    "\n",
    "# Keep looping\n",
    "while True:\n",
    "    # Get the current time, increase delta and update the previous variable\n",
    "    current = time()\n",
    "    delta += current - previous\n",
    "    previous = current\n",
    "\n",
    "    # Check if 3 (or some other value) seconds passed\n",
    "    if delta > 10:\n",
    "        gray_image = cv2.cvtColor(img, cv2.COLOR_BGR2GRAY) \n",
    "        gray_img = cv2.resize(gray_image, (28, 28)).reshape(1,28,28,1)\n",
    "        y_pred =  model.predict_classes(gray_img)\n",
    "        print(\"predicted alphabet  = \", y_pred)\n",
    "        text_to_audio(myDict.get(y_pred[0]))\n",
    "        \n",
    "        delta = 0\n",
    "\n",
    "    # Show the image and keep streaming\n",
    "    _, img = cam.read()\n",
    "    cv2.imshow(\"Frame\", img)\n",
    "    cv2.waitKey(1)"
   ]
  },
  {
   "cell_type": "code",
   "execution_count": 1,
   "metadata": {},
   "outputs": [
    {
     "name": "stdout",
     "output_type": "stream",
     "text": [
      "Requirement already satisfied: h5py in c:\\users\\khdho\\anaconda3\\lib\\site-packages (2.10.0)\n",
      "Requirement already satisfied: numpy>=1.7 in c:\\users\\khdho\\anaconda3\\lib\\site-packages (from h5py) (1.16.5)\n",
      "Requirement already satisfied: six in c:\\users\\khdho\\anaconda3\\lib\\site-packages (from h5py) (1.12.0)\n",
      "Note: you may need to restart the kernel to use updated packages.\n"
     ]
    }
   ],
   "source": [
    "pip install h5py"
   ]
  },
  {
   "cell_type": "code",
   "execution_count": null,
   "metadata": {},
   "outputs": [],
   "source": []
  }
 ],
 "metadata": {
  "kernelspec": {
   "display_name": "Python 3",
   "language": "python",
   "name": "python3"
  },
  "language_info": {
   "codemirror_mode": {
    "name": "ipython",
    "version": 3
   },
   "file_extension": ".py",
   "mimetype": "text/x-python",
   "name": "python",
   "nbconvert_exporter": "python",
   "pygments_lexer": "ipython3",
   "version": "3.7.9"
  }
 },
 "nbformat": 4,
 "nbformat_minor": 2
}
